{
 "cells": [
  {
   "cell_type": "code",
   "execution_count": 42,
   "metadata": {
    "collapsed": true
   },
   "outputs": [],
   "source": [
    "import numpy\n",
    "import random\n",
    "import pandas as pd\n",
    "import math"
   ]
  },
  {
   "cell_type": "code",
   "execution_count": 43,
   "outputs": [
    {
     "name": "stdout",
     "output_type": "stream",
     "text": [
      "   userId  movieId  rating   timestamp\n",
      "0       1      296     5.0  1147880044\n",
      "1       1      306     3.5  1147868817\n",
      "2       1      307     5.0  1147868828\n",
      "3       1      665     5.0  1147878820\n",
      "4       1      899     3.5  1147868510\n"
     ]
    }
   ],
   "source": [
    "data = pd.read_csv('../data/ml-25m/ratings.csv')\n",
    "print(data.head())"
   ],
   "metadata": {
    "collapsed": false
   }
  },
  {
   "cell_type": "code",
   "execution_count": 44,
   "outputs": [
    {
     "name": "stdout",
     "output_type": "stream",
     "text": [
      "   userId  movieId\n",
      "0       1      296\n",
      "1       1      306\n",
      "2       1      307\n",
      "3       1      665\n",
      "4       1      899\n"
     ]
    }
   ],
   "source": [
    "data = data.drop(columns=['rating', 'timestamp'])\n",
    "print(data.head())"
   ],
   "metadata": {
    "collapsed": false
   }
  },
  {
   "cell_type": "code",
   "execution_count": 45,
   "outputs": [
    {
     "name": "stdout",
     "output_type": "stream",
     "text": [
      "   user  item\n",
      "0     1   296\n",
      "1     1   306\n",
      "2     1   307\n",
      "3     1   665\n",
      "4     1   899\n"
     ]
    }
   ],
   "source": [
    "data = data.rename(columns={'userId': 'user', 'movieId': 'item'})\n",
    "print(data.head())\n",
    "data = data.values.tolist()\n",
    "# print(data)"
   ],
   "metadata": {
    "collapsed": false
   }
  },
  {
   "cell_type": "code",
   "execution_count": 52,
   "outputs": [],
   "source": [
    "def splitData(data, M, k, seed):\n",
    "    test = dict()\n",
    "    train = dict()\n",
    "    random.seed(seed)\n",
    "    for user, item in data:\n",
    "        if random.randint(0, M) == k:\n",
    "            # test[user] = ([item, rating])\n",
    "            if user not in test.keys():\n",
    "                test[user] = []\n",
    "            test[user].append(item)\n",
    "        else:\n",
    "            # train[user] = ([item, rating])\n",
    "            if user not in train.keys():\n",
    "                train[user] = []\n",
    "            train[user].append(item)\n",
    "    return train, test"
   ],
   "metadata": {
    "collapsed": false
   }
  },
  {
   "cell_type": "code",
   "execution_count": 53,
   "outputs": [],
   "source": [
    "train, test = splitData(data, M=8, k=4, seed=123)"
   ],
   "metadata": {
    "collapsed": false
   }
  },
  {
   "cell_type": "code",
   "execution_count": 54,
   "outputs": [],
   "source": [
    "def recall(train, test, N):\n",
    "    '''\n",
    "    召回率 描述有多少比例的评分记录包含在最终的推荐列表中\n",
    "    :param train:\n",
    "    :param test:\n",
    "    :param N:\n",
    "    :return:\n",
    "    '''\n",
    "    hit = 0\n",
    "    all = 0\n",
    "    for user in train.keys():\n",
    "        tu = test[user]  # 用户在测试集上喜欢的物品的集合\n",
    "        rank = getRec(user, N)  # 模型得到的结果\n",
    "        for item, pui in rank:\n",
    "            if item in tu:\n",
    "                hit += 1\n",
    "        all += len(tu)\n",
    "    return hit / (all * 1.0)"
   ],
   "metadata": {
    "collapsed": false
   }
  },
  {
   "cell_type": "code",
   "execution_count": 55,
   "outputs": [],
   "source": [
    "def precision(train, test, N):\n",
    "    '''\n",
    "    准确率 描述最终的推荐列表中有多少比例是发生过的评分记录\n",
    "    :param train:\n",
    "    :param test:\n",
    "    :param N:\n",
    "    :return:\n",
    "    '''\n",
    "    hit = 0\n",
    "    all = 0\n",
    "    for user in train.keys():\n",
    "        tu = test[user]\n",
    "        rank = getRec(user, N)  # 如果我们需要计算多个判断标准，这里可能会导致重复计算 把getRec做一个懒加载，存储所有的rec记录，没有的则计算\n",
    "        for item, pui in rank:\n",
    "            if item in tu:\n",
    "                hit += 1\n",
    "        all += N\n",
    "    return hit / (all * 1.0)"
   ],
   "metadata": {
    "collapsed": false
   }
  },
  {
   "cell_type": "code",
   "execution_count": 56,
   "outputs": [],
   "source": [
    "def coverage(train, test, N):\n",
    "    '''\n",
    "    覆盖率 最终的推荐列表中包含多大比例的物品\n",
    "    :param train:\n",
    "    :param test:\n",
    "    :param N:\n",
    "    :return:\n",
    "    '''\n",
    "    rec_items = set()\n",
    "    all_items = set()\n",
    "    for user in train.keys():\n",
    "        for item in train[user].keys():\n",
    "            all_items.add(item)\n",
    "        rank = getRec(user, N)\n",
    "        for item, _ in rank:\n",
    "            rec_items.add(item)\n",
    "    return len(rec_items) / (len(all_items) * 1.0)"
   ],
   "metadata": {
    "collapsed": false
   }
  },
  {
   "cell_type": "code",
   "execution_count": 57,
   "outputs": [],
   "source": [
    "def popularity(train, test, N):\n",
    "    '''\n",
    "    新颖度 用推荐列表中物品的平均流行度度量推荐列表的新颖度\n",
    "    如果推荐的物品都很热门，则说明推荐的新颖度很低，否则说明推荐结果比较新颖\n",
    "    :param train:\n",
    "    :param test:\n",
    "    :param N:\n",
    "    :return:\n",
    "    '''\n",
    "    item_pop = dict()\n",
    "    for user, items in train.items():\n",
    "        for item in items.keys():\n",
    "            if item not in item_pop:\n",
    "                item_pop[item] = 0\n",
    "            item_pop += 1  # 出现在用户购买记录中的次数 次数越多越流行，越不新颖\n",
    "    ret = 0\n",
    "    n = 0\n",
    "    for user in train.keys():\n",
    "        rank = getRec(user, N)\n",
    "        for item, _ in rank:\n",
    "            ret += math.log(1 + item_pop[item])  # 乘法变加法 取消梯度爆炸/消失效应 （书中的解释是物品的流行度分布满足长尾分布，取对数后流行度的平均值更稳定。\n",
    "            # 出现次数越多，ret越大\n",
    "            n += 1\n",
    "    ret /= n * 1.0  # 那应该是，返回结果越小，新颖度越高？ # TODO\n",
    "    return ret"
   ],
   "metadata": {
    "collapsed": false
   }
  },
  {
   "cell_type": "code",
   "execution_count": 68,
   "outputs": [],
   "source": [
    "def userSimilarity_cosine(train):\n",
    "    w = dict()\n",
    "    for u in train.keys():\n",
    "        for v in train.keys():\n",
    "            if u == v:\n",
    "                continue\n",
    "            w[u][v] = len(train[u] & train[v])  # 求交集\n",
    "            w[u][v] /= math.sqrt(len(train[u]) * len(train[v]) * 1.0)  # 余弦相似度\n",
    "    return w\n",
    "\n",
    "\n",
    "def userSimilarity(train):\n",
    "    item_users = dict()\n",
    "    for u, items in train.items():\n",
    "        for i in items:\n",
    "            if i not in item_users:\n",
    "                item_users[i] = set()\n",
    "            item_users[i].add(u)\n",
    "    C = dict()\n",
    "    N = dict()\n",
    "    for i, users in item_users.items():\n",
    "        for u in users:\n",
    "            if u not in N:\n",
    "                N[u] = 0\n",
    "            N[u] += 1\n",
    "            for v in users:\n",
    "                if u == v:\n",
    "                    continue\n",
    "                if (u, v) not in C:\n",
    "                    C[(u, v)] = 0\n",
    "                C[(u, v)] += 1\n",
    "    w = dict()\n",
    "    for u, related_users in C.items():\n",
    "        for v, cuv in related_users.items():\n",
    "            w[(u, v)] = cuv / math.sqrt(N[u] * N[v])\n",
    "    return w"
   ],
   "metadata": {
    "collapsed": false
   }
  },
  {
   "cell_type": "code",
   "execution_count": 61,
   "outputs": [],
   "source": [
    "def getRec(user, train, W, K):\n",
    "    '''\n",
    "    针对用户user，给出推荐列表rank\n",
    "    :param user:\n",
    "    :param train:\n",
    "    :param W: 用户相似度矩阵\n",
    "    :param K: 根据相似度最高的K个用户计算\n",
    "    :return:\n",
    "    '''\n",
    "    rank = dict()\n",
    "    interacted_items = train[user]  # 用户曾打分的电影\n",
    "    for v, wuv in sorted(W[user].items, key=lambda x: x[1], reverse=True)[0:K]:  # 取用户相似度最高的K个用户\n",
    "        for i in train[v]:  # i 表示物品 rvi表示评分\n",
    "            if i in interacted_items:  # 如果用户曾经给这个物品打分过，就跳过这个\n",
    "                continue\n",
    "            rank[i] += math.log(wuv) + math.log(1.0)  # 取log避免梯度消失和梯度爆炸效应\n",
    "    return rank"
   ],
   "metadata": {
    "collapsed": false
   }
  },
  {
   "cell_type": "code",
   "execution_count": 69,
   "outputs": [
    {
     "ename": "MemoryError",
     "evalue": "",
     "output_type": "error",
     "traceback": [
      "\u001B[1;31m---------------------------------------------------------------------------\u001B[0m",
      "\u001B[1;31mMemoryError\u001B[0m                               Traceback (most recent call last)",
      "\u001B[1;32m~\\AppData\\Local\\Temp\\ipykernel_1824\\3737773941.py\u001B[0m in \u001B[0;36m<module>\u001B[1;34m\u001B[0m\n\u001B[1;32m----> 1\u001B[1;33m \u001B[0mW\u001B[0m \u001B[1;33m=\u001B[0m \u001B[0muserSimilarity\u001B[0m\u001B[1;33m(\u001B[0m\u001B[0mtrain\u001B[0m\u001B[1;33m)\u001B[0m\u001B[1;33m\u001B[0m\u001B[1;33m\u001B[0m\u001B[0m\n\u001B[0m\u001B[0;32m      2\u001B[0m \u001B[1;31m# W_test = userSimilarity(test)\u001B[0m\u001B[1;33m\u001B[0m\u001B[1;33m\u001B[0m\u001B[1;33m\u001B[0m\u001B[0m\n\u001B[0;32m      3\u001B[0m \u001B[0mN\u001B[0m \u001B[1;33m=\u001B[0m \u001B[1;36m10\u001B[0m\u001B[1;33m\u001B[0m\u001B[1;33m\u001B[0m\u001B[0m\n\u001B[0;32m      4\u001B[0m \u001B[1;33m\u001B[0m\u001B[0m\n\u001B[0;32m      5\u001B[0m \u001B[0mrecall_value\u001B[0m \u001B[1;33m=\u001B[0m \u001B[0mrecall\u001B[0m\u001B[1;33m(\u001B[0m\u001B[0mtrain\u001B[0m\u001B[1;33m,\u001B[0m \u001B[0mtest\u001B[0m\u001B[1;33m,\u001B[0m \u001B[0mN\u001B[0m\u001B[1;33m)\u001B[0m\u001B[1;33m\u001B[0m\u001B[1;33m\u001B[0m\u001B[0m\n",
      "\u001B[1;32m~\\AppData\\Local\\Temp\\ipykernel_1824\\2933784404.py\u001B[0m in \u001B[0;36muserSimilarity\u001B[1;34m(train)\u001B[0m\n\u001B[0;32m     28\u001B[0m                     \u001B[1;32mcontinue\u001B[0m\u001B[1;33m\u001B[0m\u001B[1;33m\u001B[0m\u001B[0m\n\u001B[0;32m     29\u001B[0m                 \u001B[1;32mif\u001B[0m \u001B[1;33m(\u001B[0m\u001B[0mu\u001B[0m\u001B[1;33m,\u001B[0m \u001B[0mv\u001B[0m\u001B[1;33m)\u001B[0m \u001B[1;32mnot\u001B[0m \u001B[1;32min\u001B[0m \u001B[0mC\u001B[0m\u001B[1;33m:\u001B[0m\u001B[1;33m\u001B[0m\u001B[1;33m\u001B[0m\u001B[0m\n\u001B[1;32m---> 30\u001B[1;33m                     \u001B[0mC\u001B[0m\u001B[1;33m[\u001B[0m\u001B[1;33m(\u001B[0m\u001B[0mu\u001B[0m\u001B[1;33m,\u001B[0m \u001B[0mv\u001B[0m\u001B[1;33m)\u001B[0m\u001B[1;33m]\u001B[0m \u001B[1;33m=\u001B[0m \u001B[1;36m0\u001B[0m\u001B[1;33m\u001B[0m\u001B[1;33m\u001B[0m\u001B[0m\n\u001B[0m\u001B[0;32m     31\u001B[0m                 \u001B[0mC\u001B[0m\u001B[1;33m[\u001B[0m\u001B[1;33m(\u001B[0m\u001B[0mu\u001B[0m\u001B[1;33m,\u001B[0m \u001B[0mv\u001B[0m\u001B[1;33m)\u001B[0m\u001B[1;33m]\u001B[0m \u001B[1;33m+=\u001B[0m \u001B[1;36m1\u001B[0m\u001B[1;33m\u001B[0m\u001B[1;33m\u001B[0m\u001B[0m\n\u001B[0;32m     32\u001B[0m     \u001B[0mw\u001B[0m \u001B[1;33m=\u001B[0m \u001B[0mdict\u001B[0m\u001B[1;33m(\u001B[0m\u001B[1;33m)\u001B[0m\u001B[1;33m\u001B[0m\u001B[1;33m\u001B[0m\u001B[0m\n",
      "\u001B[1;31mMemoryError\u001B[0m: "
     ]
    }
   ],
   "source": [
    "W = userSimilarity(train)\n",
    "# W_test = userSimilarity(test)\n",
    "N = 10\n",
    "\n",
    "recall_value = recall(train, test, N)\n",
    "print('recall: ', recall_value)\n",
    "precision_value = precision(train, test, N)\n",
    "print('precision: ', precision_value)\n",
    "popularity_value = popularity(train, test, N)\n",
    "print('popularity: ', popularity_value)\n",
    "coverage_value = coverage(train, test, N)\n",
    "print('coverage: ', coverage_value)"
   ],
   "metadata": {
    "collapsed": false
   }
  }
 ],
 "metadata": {
  "kernelspec": {
   "display_name": "Python 3",
   "language": "python",
   "name": "python3"
  },
  "language_info": {
   "codemirror_mode": {
    "name": "ipython",
    "version": 2
   },
   "file_extension": ".py",
   "mimetype": "text/x-python",
   "name": "python",
   "nbconvert_exporter": "python",
   "pygments_lexer": "ipython2",
   "version": "2.7.6"
  }
 },
 "nbformat": 4,
 "nbformat_minor": 0
}
